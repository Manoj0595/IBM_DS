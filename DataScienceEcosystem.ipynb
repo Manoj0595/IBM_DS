{
 "cells": [
  {
   "cell_type": "markdown",
   "id": "135b4ad1-9cae-4f67-ba22-c9dc1e6671e0",
   "metadata": {},
   "source": [
    "# Data Science Tools and Ecosystem"
   ]
  },
  {
   "cell_type": "markdown",
   "id": "156f1cc6-a263-41e1-a930-e7a33cb14bb1",
   "metadata": {},
   "source": [
    "In this notebook, Data Science Tools and Ecosystem are summarized."
   ]
  },
  {
   "cell_type": "markdown",
   "id": "93c833b4-e09b-4efe-ac52-c96733bf6624",
   "metadata": {
    "tags": []
   },
   "source": [
    "Some of the popular languages that Data Scientists use are:\n",
    "\n",
    "1. **Python.**\n",
    "\n",
    "2. **R.** \n",
    "\n",
    "3. **SQL.** \n",
    "\n",
    "4. **Julia.**\n",
    "\n",
    "5. **Scala.**"
   ]
  },
  {
   "cell_type": "markdown",
   "id": "80ff0ce6-5029-43ca-ac16-4145d0a27bf8",
   "metadata": {},
   "source": [
    "Some of the commonly used libraries used by Data Scientists include:\n",
    "\n",
    "1. **Tensorflow.**\n",
    "\n",
    "2. **Scikit-Learn.** \n",
    "\n",
    "3. **Pandas.** \n",
    "\n",
    "4. **Matplotlib.**\n",
    "\n",
    "5. **Pytorch.**"
   ]
  },
  {
   "cell_type": "markdown",
   "id": "4c80366b-18ab-48ae-bf8b-56ee206a94c2",
   "metadata": {},
   "source": [
    "| Data Science Tools    |\n",
    "|-----------------------|\n",
    "| Jupyter Notebooks     |\n",
    "| VS Code with Jupyter  |\n",
    "| RStudio               |\n",
    "| Apache Spark          |\n",
    "| TensorFlow            |\n",
    "\n"
   ]
  },
  {
   "cell_type": "markdown",
   "id": "939225bc-ac02-4069-92a0-28abddbaefd0",
   "metadata": {
    "tags": []
   },
   "source": [
    "### Below are a few examples of evaluating arithmetic expressions in Python\n",
    "\n",
    "1. Addition:\n",
    "   ```python\n",
    "   result = 5 + 3\n",
    "   print(result)  # Output: 8\n",
    "   \n",
    "2. Substraction:\n",
    "    ```python\n",
    "    result = 10 - 4\n",
    "    print(result)  # Output: 6\n",
    "\n",
    "3. Division:\n",
    "    ```python\n",
    "    result = 15/3\n",
    "    print(result)  # Output: 5.0\n",
    "    \n",
    "3. Division:\n",
    "    ```python\n",
    "    result = 15/3\n",
    "    print(result)  # Output: 5.0\n",
    "    "
   ]
  },
  {
   "cell_type": "code",
   "execution_count": 4,
   "id": "814c637c-24b5-439c-b9d7-17e2f791d148",
   "metadata": {
    "tags": []
   },
   "outputs": [
    {
     "data": {
      "text/plain": [
       "17"
      ]
     },
     "execution_count": 4,
     "metadata": {},
     "output_type": "execute_result"
    }
   ],
   "source": [
    "#This a simple arithmetic expression to mutiply then add integers\n",
    "\n",
    "(3*4)+5\n",
    "\n",
    "#expected_Output = 17"
   ]
  },
  {
   "cell_type": "code",
   "execution_count": 7,
   "id": "7453e2a7-1dbd-4fce-a261-b34b3d541761",
   "metadata": {
    "tags": []
   },
   "outputs": [
    {
     "name": "stdout",
     "output_type": "stream",
     "text": [
      "3.3333333333333335\n"
     ]
    }
   ],
   "source": [
    "#This will convert 200 minutes to hours by diving by 60\n",
    "\n",
    "#hours = totalMinutes / 60\n",
    "hours = 200/60\n",
    "print(hours)\n"
   ]
  },
  {
   "cell_type": "markdown",
   "id": "b96ae451-51b8-43d2-a553-d88bf1fd472c",
   "metadata": {},
   "source": [
    "**Objectives:**\n",
    "\n",
    "- List of data science libraries.\n",
    "- List of Data Science tools.\n",
    "- Arithmetic expression examples.\n",
    "- How to multiply and add numbers.\n",
    "- How to convert minutes to hours.\n"
   ]
  },
  {
   "cell_type": "markdown",
   "id": "9228ef5b-60a9-4dba-b750-3d0b5dde0b45",
   "metadata": {},
   "source": [
    "## Author\n",
    "\n",
    "Manoj Kumar V"
   ]
  },
  {
   "cell_type": "code",
   "execution_count": null,
   "id": "ead62145-c126-4c9d-a197-43c5622d5dd9",
   "metadata": {},
   "outputs": [],
   "source": []
  }
 ],
 "metadata": {
  "kernelspec": {
   "display_name": "Python 3 (ipykernel)",
   "language": "python",
   "name": "python3"
  },
  "language_info": {
   "codemirror_mode": {
    "name": "ipython",
    "version": 3
   },
   "file_extension": ".py",
   "mimetype": "text/x-python",
   "name": "python",
   "nbconvert_exporter": "python",
   "pygments_lexer": "ipython3",
   "version": "3.11.2"
  }
 },
 "nbformat": 4,
 "nbformat_minor": 5
}
